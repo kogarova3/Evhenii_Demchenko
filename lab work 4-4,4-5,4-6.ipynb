{
 "cells": [
  {
   "cell_type": "code",
   "execution_count": 2,
   "metadata": {},
   "outputs": [
    {
     "name": "stdout",
     "output_type": "stream",
     "text": [
      "Found name: Strainge\n",
      "Age: 97\n",
      "()\n",
      "Found name: Strainge\n",
      "Age: None\n",
      "(0, 1, 2, 3, 4, 5, 6, 7, 8, 9)\n"
     ]
    }
   ],
   "source": [
    "word = 'Found name:'  \n",
    "ids = {'name':\"Strainge\", 'age':97}  \n",
    "\n",
    "def intersection(word,name,*args,age=None): \n",
    "    print(word, name) \n",
    "    print('Age:',age) \n",
    "    print(args)       \n",
    "\n",
    "intersection(word, **ids)  \n",
    "intersection(word, ids['name'], *list(range(10)))\n"
   ]
  },
  {
   "cell_type": "code",
   "execution_count": 15,
   "metadata": {},
   "outputs": [
    {
     "name": "stdout",
     "output_type": "stream",
     "text": [
      "[1, 3, 5]\n"
     ]
    }
   ],
   "source": [
    "foo = [1, 2, 3, 4, 5]\n",
    "odd_foo = []\n",
    "def isOdd(x):\n",
    "    return x % 2==1\n",
    "for f in foo:\n",
    "    if isOdd(f):\n",
    "        odd_foo.append(f)\n",
    "print (odd_foo)\n"
   ]
  },
  {
   "cell_type": "code",
   "execution_count": 16,
   "metadata": {},
   "outputs": [
    {
     "name": "stdout",
     "output_type": "stream",
     "text": [
      "(1, 1)\n",
      "(2, 2)\n",
      "(3, 3)\n",
      "(4, 4)\n",
      "(5, 5)\n"
     ]
    }
   ],
   "source": [
    "foo = [1, 2, 3, 4, 5]\n",
    "\n",
    "def my_enumerate(lst):   # Define own enumerate function\n",
    "    for item in lst:     # Loop for generation objects with yield\n",
    "        yield lst.index(item)+1, item  \n",
    "\n",
    "\n",
    "for item in my_enumerate(foo):\n",
    "    print(item)"
   ]
  },
  {
   "cell_type": "code",
   "execution_count": 20,
   "metadata": {},
   "outputs": [],
   "source": [
    "data_lst = [\"index.php\", \"main.py\", \"__init__.py\", \"core.py\", \"data.bin\"]\n",
    "\n",
    "def mydecor(func):\n",
    "    def my_decor(item):\n",
    "        data_file = open(\"config.data\", \"r+\")\n",
    "        func(data_file, item)\n",
    "        data_file.close()\n",
    "    return my_decor\n",
    "        \n",
    "\n",
    "@mydecor\n",
    "def writeConfig(file, line):   # Define function in step 3\n",
    "    if \"Configuration file! Do not modify!\" in file.read():\n",
    "        file.write(\"%s;\\n\"%(line))\n",
    "    else:\n",
    "        file.write(\"Configuration file! Do not modify!\\n\"+\\\n",
    "                   \"%s;\\n\"%(line))\n",
    "\n",
    "for item in data_lst:\n",
    "    writeConfig(item)\n"
   ]
  },
  {
   "cell_type": "code",
   "execution_count": null,
   "metadata": {},
   "outputs": [],
   "source": []
  },
  {
   "cell_type": "code",
   "execution_count": null,
   "metadata": {},
   "outputs": [],
   "source": []
  }
 ],
 "metadata": {
  "kernelspec": {
   "display_name": "Python 3",
   "language": "python",
   "name": "python3"
  },
  "language_info": {
   "codemirror_mode": {
    "name": "ipython",
    "version": 3
   },
   "file_extension": ".py",
   "mimetype": "text/x-python",
   "name": "python",
   "nbconvert_exporter": "python",
   "pygments_lexer": "ipython3",
   "version": "3.7.3"
  }
 },
 "nbformat": 4,
 "nbformat_minor": 2
}
