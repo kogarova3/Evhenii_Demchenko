{
 "cells": [
  {
   "cell_type": "code",
   "execution_count": 4,
   "metadata": {},
   "outputs": [
    {
     "name": "stdout",
     "output_type": "stream",
     "text": [
      "input planet №1: Saturn\n",
      "штзге planet №2: Uranus\n",
      "The 10724 days in a year on Saturn\n",
      "The 30658 days in a year on Uranus\n",
      "The Uranus year is bigger\n"
     ]
    }
   ],
   "source": [
    "import math\n",
    "import sys\n",
    "\n",
    "planet_data = {\"orbital_radius\":{\"Mercury\": 58, \"Venus\": 108, \"Earth\": 150, \"Mars\": 228, \"Jupiter\": 778, \"Saturn\": 1429, \"Uranus\": 2871, \"Neptune\": 4504},\n",
    "\"orbital_speed\": {\"Mercury\": 47.87, \"Venus\": 35.02, \"Earth\": 29.78, \"Mars\": 24.13, \"Jupiter\": 13.07, \"Saturn\": 9.69, \"Uranus\": 6.81, \"Neptune\": 5.43}}\n",
    "\n",
    "planet1 = input(\"input planet №1: \")\n",
    "planet2 = input(\"input planet №2: \")\n",
    "\n",
    "def days_in_year(planet):\n",
    "    '''\n",
    "    Takes the name of planet as input, returns the number of days in a year on this planer (int)\n",
    "    '''\n",
    "    orbital_radius = planet_data['orbital_radius'][planet] * 1000000\n",
    "    orbital_speed = planet_data['orbital_speed'][planet]\n",
    "\n",
    "    planet_year = 2 * math.pi * orbital_radius / orbital_speed / (60 * 60 * 24)\n",
    "\n",
    "    print (\"The {} days in a year on {}\".format(int(planet_year), planet))\n",
    "\n",
    "    return int(planet_year)\n",
    "\n",
    "def bigger_year():\n",
    "    '''\n",
    "    Determins which year is bigger of two given planets. Return the planet name with the bigger year.\n",
    "    '''\n",
    "    planet_days1 = days_in_year(planet1)\n",
    "    planet_days2 = days_in_year(planet2)\n",
    " \n",
    "    is_bigger = planet1 if planet_days1 > planet_days2 else planet2\n",
    "\n",
    "    print(\"The {} year is bigger\".format(is_bigger))\n",
    "\n",
    "bigger_year()\n",
    "\n"
   ]
  },
  {
   "cell_type": "code",
   "execution_count": null,
   "metadata": {},
   "outputs": [],
   "source": []
  }
 ],
 "metadata": {
  "kernelspec": {
   "display_name": "Python 3",
   "language": "python",
   "name": "python3"
  },
  "language_info": {
   "codemirror_mode": {
    "name": "ipython",
    "version": 3
   },
   "file_extension": ".py",
   "mimetype": "text/x-python",
   "name": "python",
   "nbconvert_exporter": "python",
   "pygments_lexer": "ipython3",
   "version": "3.7.3"
  }
 },
 "nbformat": 4,
 "nbformat_minor": 2
}
