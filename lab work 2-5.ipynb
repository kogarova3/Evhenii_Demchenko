{
 "cells": [
  {
   "cell_type": "code",
   "execution_count": 4,
   "metadata": {},
   "outputs": [
    {
     "name": "stdout",
     "output_type": "stream",
     "text": [
      "Domain for UKRAINE is UA.\n",
      "Domain for LITHUANIA is LT.\n",
      "Domain for SPAIN is SP.\n",
      "Domain for POLAND is PL.\n",
      "Domain for DENNEMARK is D.\n",
      "Domain for UNITED STATES OF AMERICA is USA.\n",
      "The capital of UA is KYIV\n",
      "The capital of LT is VILNIUS\n",
      "The capital of SP is MADRID\n",
      "The capital of PL is WARSHAVA\n",
      "The capital of D is BERLIN\n",
      "The capital of USA is WASHINGTON\n",
      "Domain for UKRAINE is UA.The capital is KYIV\n",
      "Domain for LITHUANIA is LT.The capital is VILNIUS\n",
      "Domain for SPAIN is SP.The capital is MADRID\n",
      "Domain for POLAND is PL.The capital is WARSHAVA\n",
      "Domain for DENNEMARK is D.The capital is BERLIN\n",
      "Domain for UNITED STATES OF AMERICA is USA.The capital is WASHINGTON\n",
      "Domain for UKRAINE is ['UA', 'COM', 'GOV'].The capital is KYIV\n",
      "Domain for LITHUANIA is ['LT', 'COM', 'GOV'].The capital is VILNIUS\n",
      "Domain for SPAIN is ['SP', 'COM', 'GOV'].The capital is MADRID\n",
      "Domain for POLAND is ['PL', 'COM', 'GOV'].The capital is WARSHAVA\n",
      "Domain for DENNEMARK is ['D', 'COM', 'GOV'].The capital is BERLIN\n",
      "Domain for UNITED STATES OF AMERICA is ['USA', 'COM', 'GOV'].The capital is WASHINGTON\n"
     ]
    }
   ],
   "source": [
    "countries = {'UKRAINE':'UA','LITHUANIA':'LT','SPAIN':'SP','POLAND':'PL','DENNEMARK':'D'}\n",
    "capitals = {'UA':\"KYIV\",'LT':'VILNIUS','SP':'MADRID','PL':'WARSHAVA','D':'BERLIN'}\n",
    "countries['UNITED STATES OF AMERICA'] ='USA'\n",
    "capitals['USA'] = 'WASHINGTON'\n",
    "\n",
    "for key, value in countries.items():\n",
    "    print (\"Domain for {} is {}.\".format(key, value))\n",
    "\n",
    "for key, value in capitals.items():\n",
    "    print (\"The capital of {} is {}\".format(key, value))\t\n",
    "\n",
    "for key, value in countries.items():\n",
    "    print (\"Domain for {} is {}.The capital is {}\".format(key, value, capitals[value]))\n",
    "\n",
    "for key, value in countries.items():\n",
    "    countries[key] = [value, 'COM', 'GOV']\n",
    "\n",
    "for key, value in countries.items():\n",
    "    print (\"Domain for {} is {}.The capital is {}\".format(key, value, capitals[value[0]]))\n",
    "\n",
    "\n"
   ]
  },
  {
   "cell_type": "code",
   "execution_count": null,
   "metadata": {},
   "outputs": [],
   "source": []
  }
 ],
 "metadata": {
  "kernelspec": {
   "display_name": "Python 3",
   "language": "python",
   "name": "python3"
  },
  "language_info": {
   "codemirror_mode": {
    "name": "ipython",
    "version": 3
   },
   "file_extension": ".py",
   "mimetype": "text/x-python",
   "name": "python",
   "nbconvert_exporter": "python",
   "pygments_lexer": "ipython3",
   "version": "3.7.3"
  }
 },
 "nbformat": 4,
 "nbformat_minor": 2
}
