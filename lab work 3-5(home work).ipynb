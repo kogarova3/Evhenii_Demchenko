{
 "cells": [
  {
   "cell_type": "code",
   "execution_count": 12,
   "metadata": {},
   "outputs": [
    {
     "name": "stdout",
     "output_type": "stream",
     "text": [
      "вгадай число\n",
      "\n",
      "загадав число від одного до 50\n",
      "число?\n",
      "30\n",
      "Моє число більше \n",
      "число?\n",
      "33\n",
      "Моє число меньше \n",
      "число?\n",
      "32\n",
      "Моє число меньше \n",
      "число?\n",
      "31\n",
      "вгадав\n"
     ]
    }
   ],
   "source": [
    "import random\n",
    "sprobu = 0\n",
    "print(\"вгадай число\")\n",
    "myName = input()\n",
    "number = random.randint(1,50)\n",
    "print(\"загадав число від одного до 50\")\n",
    "while sprobu < 6:\n",
    "    print(\"число?\") \n",
    "    guess = input()\n",
    "    guess = int(guess)\n",
    "    sprobu = sprobu+1\n",
    "    if guess < number:\n",
    "        print(\"Моє число більше \") \n",
    "    if guess > number:\n",
    "        print(\"Моє число меньше \")\n",
    "    if guess == number:\n",
    "        break\n",
    "if guess == number:\n",
    "    sprobu = str(sprobu)\n",
    "    print(\"вгадав\")\n",
    "if guess != number:\n",
    "    number = str(number)\n",
    "    print(\"не вгадав(\")\n"
   ]
  },
  {
   "cell_type": "code",
   "execution_count": 56,
   "metadata": {},
   "outputs": [
    {
     "name": "stdout",
     "output_type": "stream",
     "text": [
      "1 2 3 4 5\n",
      "2 3 4 5 6\n",
      "3 4 5 6 7\n",
      "4 5 6 7 8\n",
      "5 6 7 8 9\n"
     ]
    }
   ],
   "source": [
    "n1 = '12345'\n",
    "p1 = ''\n",
    "j = 1\n",
    "for i in n1:\n",
    "    p1 += i\n",
    "    j+=1\n",
    "print(' '.join(list(p1)))\n",
    "n2 = '23456'\n",
    "p1 =\"\"\n",
    "for i in n2:\n",
    "    p1+=i\n",
    "    j+=1\n",
    "print(' '.join(list(p1)))\n",
    "n3 ='34567'\n",
    "p1= ''\n",
    "j =1\n",
    "for i in n3:\n",
    "    p1+=i\n",
    "    j+=1\n",
    "print(\" \".join(list(p1)))\n",
    "n4 = '45678'\n",
    "p1 = ''\n",
    "j = 1\n",
    "for i in n4:\n",
    "    p1+=i\n",
    "    j+=1\n",
    "print(\" \".join(list(p1)))\n",
    "n5 = '56789'\n",
    "p1 = \"\"\n",
    "j =1\n",
    "for i in n5:\n",
    "    p1+=i\n",
    "    j+=1\n",
    "print(\" \".join(list(p1)))"
   ]
  },
  {
   "cell_type": "code",
   "execution_count": null,
   "metadata": {},
   "outputs": [],
   "source": []
  }
 ],
 "metadata": {
  "kernelspec": {
   "display_name": "Python 3",
   "language": "python",
   "name": "python3"
  },
  "language_info": {
   "codemirror_mode": {
    "name": "ipython",
    "version": 3
   },
   "file_extension": ".py",
   "mimetype": "text/x-python",
   "name": "python",
   "nbconvert_exporter": "python",
   "pygments_lexer": "ipython3",
   "version": "3.7.3"
  }
 },
 "nbformat": 4,
 "nbformat_minor": 2
}
