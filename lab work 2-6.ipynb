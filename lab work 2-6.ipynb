{
 "cells": [
  {
   "cell_type": "code",
   "execution_count": 28,
   "metadata": {},
   "outputs": [
    {
     "name": "stdout",
     "output_type": "stream",
     "text": [
      "{1, 3, 5, 'b', 8, 'a', 'c'}\n",
      "{2, 4, 6, 9, 'j', 'k', 'h'}\n",
      "{1, 2, 3, 4, 5, 'b', 6, 8, 9, 'a', 'j', 'k', 'c', 'h'}\n",
      "{1, 3, 5, 'b', 8, 'a', 'c'}\n",
      "(1, 2, 3)\n",
      "2,4,6,9,('h', 'c', 'k', 'j', 'a', 9, 8, 6, 'b', 5, 4, 3, 2, 1)\n",
      "('c', 'a', 8, 'b', 5, 3, 1)\n",
      "[1, 2, 3, 4, 5, 'b', 6, 8, 9, 'a', 'j', 'k', 'c', 'h']\n",
      "[1, 3, 5, 'b', 8, 'a', 'c']\n"
     ]
    }
   ],
   "source": [
    "set1 = {1, 3, 5, 8,\"a\",\"b\",\"c\"}\n",
    "set2 = {2, 4, 6, 9, \"h\", \"j\",\"k\"}\n",
    "\n",
    "print(set1)\n",
    "print(set2)\n",
    "tuple1 = set1|set2\n",
    "tuple2 = set1-set2\n",
    "print(tuple1)\n",
    "print(tuple2)\n",
    "tuple1 = (1, 2, 3, 4, 5, \"b\",6, 8, 9, \"a\",\"j\", \"k\",\"c\",\"h\")\n",
    "tuple2 = (1, 3, 5, \"b\", 8, \"a\",\"c\")\n",
    "print(tuple1[:3])\n",
    "for a in set2:\n",
    "    if str(a).isdigit():\n",
    "        print(a, end = \",\")\n",
    "print(tuple1[::-1])\n",
    "print(tuple2[::-1])\n",
    "new_list = list(tuple1)\n",
    "print(new_list)\n",
    "new_list2 = list(tuple2)\n",
    "print(new_list2)"
   ]
  },
  {
   "cell_type": "code",
   "execution_count": null,
   "metadata": {},
   "outputs": [],
   "source": []
  }
 ],
 "metadata": {
  "kernelspec": {
   "display_name": "Python 3",
   "language": "python",
   "name": "python3"
  },
  "language_info": {
   "codemirror_mode": {
    "name": "ipython",
    "version": 3
   },
   "file_extension": ".py",
   "mimetype": "text/x-python",
   "name": "python",
   "nbconvert_exporter": "python",
   "pygments_lexer": "ipython3",
   "version": "3.7.3"
  }
 },
 "nbformat": 4,
 "nbformat_minor": 2
}
