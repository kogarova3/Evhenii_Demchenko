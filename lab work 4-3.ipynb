{
 "cells": [
  {
   "cell_type": "code",
   "execution_count": 2,
   "metadata": {},
   "outputs": [
    {
     "name": "stdout",
     "output_type": "stream",
     "text": [
      "Found name: Strainge\n",
      "Age: 97\n",
      "()\n",
      "Found name: Strainge\n",
      "Age: None\n",
      "(0, 1, 2, 3, 4, 5, 6, 7, 8, 9)\n"
     ]
    }
   ],
   "source": [
    "word = 'Found name:'  \n",
    "ids = {'name':\"Strainge\", 'age':97}  \n",
    "\n",
    "def intersection(word,name,*args,age=None): \n",
    "    print(word, name) \n",
    "    print('Age:',age) \n",
    "    print(args)       \n",
    "\n",
    "intersection(word, **ids)  \n",
    "intersection(word, ids['name'], *list(range(10)))\n"
   ]
  },
  {
   "cell_type": "code",
   "execution_count": null,
   "metadata": {},
   "outputs": [],
   "source": []
  }
 ],
 "metadata": {
  "kernelspec": {
   "display_name": "Python 3",
   "language": "python",
   "name": "python3"
  },
  "language_info": {
   "codemirror_mode": {
    "name": "ipython",
    "version": 3
   },
   "file_extension": ".py",
   "mimetype": "text/x-python",
   "name": "python",
   "nbconvert_exporter": "python",
   "pygments_lexer": "ipython3",
   "version": "3.7.3"
  }
 },
 "nbformat": 4,
 "nbformat_minor": 2
}
