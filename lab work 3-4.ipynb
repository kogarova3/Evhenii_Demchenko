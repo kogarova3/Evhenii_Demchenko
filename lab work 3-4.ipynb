{
 "cells": [
  {
   "cell_type": "code",
   "execution_count": 2,
   "metadata": {},
   "outputs": [
    {
     "name": "stdout",
     "output_type": "stream",
     "text": [
      "vvedit rik1200\n",
      "vusokosnuj rik:1200\n"
     ]
    }
   ],
   "source": [
    "rik = int(input('vvedit rik'))\n",
    "if (rik%4 == 0) and (rik%100 !=0) or (rik%400==0):\n",
    "    print('vusokosnuj rik:{}'.format(rik))\n",
    "else:\n",
    "        print('ne vusokosnuj')"
   ]
  },
  {
   "cell_type": "code",
   "execution_count": null,
   "metadata": {},
   "outputs": [],
   "source": []
  }
 ],
 "metadata": {
  "kernelspec": {
   "display_name": "Python 3",
   "language": "python",
   "name": "python3"
  },
  "language_info": {
   "codemirror_mode": {
    "name": "ipython",
    "version": 3
   },
   "file_extension": ".py",
   "mimetype": "text/x-python",
   "name": "python",
   "nbconvert_exporter": "python",
   "pygments_lexer": "ipython3",
   "version": "3.7.3"
  }
 },
 "nbformat": 4,
 "nbformat_minor": 2
}
