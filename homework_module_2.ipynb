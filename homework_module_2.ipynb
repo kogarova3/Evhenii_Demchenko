{
 "cells": [
  {
   "cell_type": "markdown",
   "metadata": {},
   "source": [
    "# Data structures"
   ]
  },
  {
   "cell_type": "markdown",
   "metadata": {},
   "source": [
    "### 1"
   ]
  },
  {
   "cell_type": "code",
   "execution_count": null,
   "metadata": {
    "collapsed": true
   },
   "outputs": [],
   "source": [
    "a = 12\n",
    "b = 2345"
   ]
  },
  {
   "cell_type": "code",
   "execution_count": null,
   "metadata": {},
   "outputs": [],
   "source": [
    "# TODO:\n",
    "float_a_by_b_result = None  # use float division instead of None\n",
    "int_a_by_b_result = None  # use int division instead of None"
   ]
  },
  {
   "cell_type": "code",
   "execution_count": null,
   "metadata": {},
   "outputs": [],
   "source": [
    "assert int_a_by_b_result == 0, \"should be 0 here\"\n",
    "assert (float_a_by_b_result - 0.00511) < 0.00001, \"should be about 0.00511\""
   ]
  },
  {
   "cell_type": "markdown",
   "metadata": {},
   "source": [
    "### 2"
   ]
  },
  {
   "cell_type": "code",
   "execution_count": null,
   "metadata": {},
   "outputs": [],
   "source": [
    "ordinary_list = list(range(100)) + list(range(50))\n",
    "print(f\"a list with duplicatess: {ordinary_list}\")"
   ]
  },
  {
   "cell_type": "code",
   "execution_count": null,
   "metadata": {
    "collapsed": true
   },
   "outputs": [],
   "source": [
    "unique_list = None  # create a new list with only unique items"
   ]
  },
  {
   "cell_type": "code",
   "execution_count": null,
   "metadata": {},
   "outputs": [],
   "source": [
    "assert unique_list == list(range(100)), \"should be a list with only unique elements\""
   ]
  },
  {
   "cell_type": "markdown",
   "metadata": {},
   "source": [
    "### 3"
   ]
  },
  {
   "cell_type": "code",
   "execution_count": null,
   "metadata": {
    "collapsed": true
   },
   "outputs": [],
   "source": [
    "keys = [\"a\", \"b\", \"c\", 4, 5.0]\n",
    "values = [1, 2, 3, \"4\", 5.0]"
   ]
  },
  {
   "cell_type": "code",
   "execution_count": null,
   "metadata": {},
   "outputs": [],
   "source": [
    "d = dict({})  # make a dict with keys and values from the list above"
   ]
  },
  {
   "cell_type": "code",
   "execution_count": null,
   "metadata": {
    "collapsed": true
   },
   "outputs": [],
   "source": [
    "assert d == {\"a\": 1, \"b\": 2, \"c\": 3, 4: \"4\", 5.0: 5.0}"
   ]
  },
  {
   "cell_type": "markdown",
   "metadata": {},
   "source": [
    "### 4"
   ]
  },
  {
   "cell_type": "code",
   "execution_count": null,
   "metadata": {
    "collapsed": true
   },
   "outputs": [],
   "source": [
    "a = [1, 2, 3]"
   ]
  },
  {
   "cell_type": "code",
   "execution_count": null,
   "metadata": {
    "collapsed": true
   },
   "outputs": [],
   "source": [
    "# Convert a to some immutable type"
   ]
  },
  {
   "cell_type": "code",
   "execution_count": null,
   "metadata": {},
   "outputs": [],
   "source": [
    "try:\n",
    "    a[0] = 1\n",
    "except TypeError as e:\n",
    "    print(\"Yeah, you can't change items of this data structure\")\n",
    "else:\n",
    "    assert False, \"should be an error here\""
   ]
  },
  {
   "cell_type": "markdown",
   "metadata": {},
   "source": [
    "# Copy/deepcopy"
   ]
  },
  {
   "cell_type": "code",
   "execution_count": null,
   "metadata": {},
   "outputs": [],
   "source": [
    "original = {\"list\": [1, 2, 3, 4, 5], \"dict\": {\"a\": 1, \"b\": 2, \"c\": 3, \"inner_list\": []}, \"set\": {1, 2, 3}}\n",
    "\n",
    "# assign it to the new var\n",
    "shallow_copied = original\n",
    "\n",
    "# and add a new item to the list\n",
    "shallow_copied[\"list\"].append(123)\n",
    "\n",
    "# it change the original as well\n",
    "print(original)\n",
    "\n",
    "\n",
    "ref_copied = None  # copy here instead of None\n",
    "\n",
    "original[\"set\"] = {}\n",
    "assert ref_copied[\"set\"] == {1, 2, 3}\n",
    "\n",
    "deep_ref_copied = None  # deep copy here instead of None\n",
    "\n",
    "original[\"dict\"][\"inner_list\"].append(123)\n",
    "assert deep_ref_copied[\"dict\"][\"inner_list\"] == []"
   ]
  }
 ],
 "metadata": {
  "kernelspec": {
   "display_name": "Python 3",
   "language": "python",
   "name": "python3"
  },
  "language_info": {
   "codemirror_mode": {
    "name": "ipython",
    "version": 3
   },
   "file_extension": ".py",
   "mimetype": "text/x-python",
   "name": "python",
   "nbconvert_exporter": "python",
   "pygments_lexer": "ipython3",
   "version": "3.6.3"
  }
 },
 "nbformat": 4,
 "nbformat_minor": 2
}
